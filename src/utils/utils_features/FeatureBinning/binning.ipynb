{
 "cells": [
  {
   "cell_type": "code",
   "execution_count": 17,
   "id": "511d461b-5aff-4d36-97c7-a1f446298d37",
   "metadata": {},
   "outputs": [],
   "source": [
    "import os\n",
    "import pandas as pd\n",
    "from sklearn.model_selection import train_test_split\n",
    "import XXDBinning as binning\n",
    "import warnings\n",
    "warnings.filterwarnings(\"ignore\")"
   ]
  },
  {
   "cell_type": "markdown",
   "id": "b6fa86f3-64dc-42ad-9f1b-f1b17c09b008",
   "metadata": {},
   "source": [
    "# 1.数据"
   ]
  },
  {
   "cell_type": "code",
   "execution_count": 18,
   "id": "05a4b386-3c6c-471f-afd8-dd1fe69f8a9a",
   "metadata": {},
   "outputs": [
    {
     "name": "stdout",
     "output_type": "stream",
     "text": [
      "      cust_id  applicant_age  loan_id  amt_req  rent_own  mthly_rent_amt  \\\n",
      "0  3e4519270a             59        1      500         1             500   \n",
      "1  a7ff4f3fd5             44        1      500         1            1025   \n",
      "2  3466ce11fa             53        1      500         0             500   \n",
      "3  e2c803a12c             33        1      500         1             350   \n",
      "4  6fc1957477             40        1      500         0             850   \n",
      "\n",
      "   bank_acct_dd  loan_dur  pmt_ach  nm_pmt  pmt_amt  amt_aprv  dur_aprv  \\\n",
      "0             1         5        1       5   193.91       500         5   \n",
      "1             0         3        1       6   138.48       500         3   \n",
      "2             1         6        1      13    77.39       500         6   \n",
      "3             1         5        1       5   193.91       500         5   \n",
      "4             1         6        1      13    77.39       500         6   \n",
      "\n",
      "   pmt_amt_aprv            county primary_city state     domain  \\\n",
      "0        193.91  Minnehaha County       Baltic    SD    aol.com   \n",
      "1        138.48    Lincoln County       Canton    SD    aol.com   \n",
      "2         77.39  Minnehaha County       Colton    SD    aol.com   \n",
      "3        193.91  Minnehaha County  Dell Rapids    SD  yahoo.com   \n",
      "4         77.39    Lincoln County   Harrisburg    SD   bing.com   \n",
      "\n",
      "                            bank_nm       email_dur    res_dur bank_acct_dur  \\\n",
      "0                           Unknown  1 year or more  1-2 years     1-2 years   \n",
      "1                           Unknown  1 year or more   3+ years   7-12 months   \n",
      "2                           Unknown     4-12 months   3+ years   7-12 months   \n",
      "3  SIOUX FALLS FEDERAL CREDIT UNION  1 year or more   3+ years      3+ years   \n",
      "4                           Unknown  1 year or more   3+ years      3+ years   \n",
      "\n",
      "       pmt_freq home_phone_type  has_other_phone    how_use_money  \\\n",
      "0       Monthly          Mobile                0  Bills (General)   \n",
      "1  Semi-monthly          Mobile                1            Other   \n",
      "2     Bi-weekly          Mobile                0            Other   \n",
      "3       Monthly            Home                1     Bills (Auto)   \n",
      "4     Bi-weekly          Mobile                0            Bills   \n",
      "\n",
      "   mthly_income_amt  raw_l2c_score  raw_FICO_telecom  raw_FICO_retail  \\\n",
      "0              3000            541               620              653   \n",
      "1              4000            588               522              517   \n",
      "2              3624            593               562              583   \n",
      "3              1571            544               517              539   \n",
      "4              1250            336               586              579   \n",
      "\n",
      "   raw_FICO_bank_card  raw_FICO_money  flgGood  req_inc_ratio  rent_ratio  \\\n",
      "0                 674             629        0      16.666667   16.666667   \n",
      "1                 643             573        1      12.500000   25.625000   \n",
      "2                 680             615        1      13.796909   13.796909   \n",
      "3                 628             582        0      31.826862   22.278803   \n",
      "4                 680             628        0      40.000000   68.000000   \n",
      "\n",
      "   pmt_ratio  pmt_amt_apv_match  amt_apv_match     name  \n",
      "0   0.064637                  1              1       qq  \n",
      "1   0.034620                  1              1   yuqing  \n",
      "2   0.021355                  1              1   yuqing  \n",
      "3   0.123431                  1              1  jack ma  \n",
      "4   0.061912                  1              1   yuqing  \n",
      "df's shape:  (656, 39)\n",
      "train_df's shape:  (459, 39)\n",
      "test_df's shape:  (197, 39)\n"
     ]
    }
   ],
   "source": [
    "# 数据读取\n",
    "df = pd.read_csv(\"/Users/zfwang/machinelearning/mlproj/src/utils/binning/data.csv\")\n",
    "with pd.option_context(\"display.max_column\", None):\n",
    "    print(df.head())\n",
    "print(\"df's shape: \", df.shape)\n",
    "\n",
    "# 训练数据、测试数据分割\n",
    "train_df, test_df = train_test_split(df, test_size = 0.3, random_state = 100, stratify = df.flgGood)\n",
    "print(\"train_df's shape: \", train_df.shape)\n",
    "print(\"test_df's shape: \", test_df.shape)"
   ]
  },
  {
   "cell_type": "markdown",
   "id": "b40f9555-5a75-453e-ab8c-db705ec318f7",
   "metadata": {},
   "source": [
    "# 2.数值特征分箱"
   ]
  },
  {
   "cell_type": "code",
   "execution_count": 19,
   "id": "dd5458d5-bcfe-4a1a-b67e-ea8574ff9e55",
   "metadata": {},
   "outputs": [],
   "source": [
    "nb = binning.XXDNumberBin()"
   ]
  },
  {
   "cell_type": "markdown",
   "id": "b0cba481-6654-444a-bbc7-c3a12c464b91",
   "metadata": {},
   "source": [
    "## 2.1 数值型等频分箱"
   ]
  },
  {
   "cell_type": "code",
   "execution_count": 20,
   "id": "9766c9d5-0acc-4340-98d3-aa435b13b8ec",
   "metadata": {},
   "outputs": [
    {
     "data": {
      "image/png": "[encoded data removed]",
      "text/plain": [
       "<Figure size 576x396 with 1 Axes>"
      ]
     },
     "metadata": {},
     "output_type": "display_data"
    },
    {
     "name": "stdout",
     "output_type": "stream",
     "text": [
      "Cutoff:[12.90322581, 16.0, 20.09040683, 22.65861027, 25.69868294, 29.41176471, 33.33333333, 40.32258065, 51.16959064, 166.66666669999998]\n"
     ]
    },
    {
     "data": {
      "text/plain": [
       "171    0.074559\n",
       "48     0.161571\n",
       "440   -0.564366\n",
       "536    0.066260\n",
       "46     0.161571\n",
       "         ...   \n",
       "43     0.248582\n",
       "495    0.066260\n",
       "556    0.074559\n",
       "89     0.200791\n",
       "513    0.248582\n",
       "Name: req_inc_ratio, Length: 197, dtype: float64"
      ]
     },
     "execution_count": 20,
     "metadata": {},
     "output_type": "execute_result"
    }
   ],
   "source": [
    "nb.pct_bin(train_df, 'req_inc_ratio', 'flgGood', max_bin = 10)\n",
    "nb.get_bin_stats()\n",
    "nb.plot_woe()\n",
    "nb.trans_to_woe(test_df['req_inc_ratio'])"
   ]
  },
  {
   "cell_type": "code",
   "execution_count": 24,
   "id": "1b00ff6c-50a2-43b0-9f75-cf8ccbc33f8e",
   "metadata": {},
   "outputs": [
    {
     "data": {
      "text/plain": [
       "['_XXDNumberBin__bin_stats',\n",
       " '_XXDNumberBin__cc',\n",
       " '_XXDNumberBin__varname',\n",
       " '__class__',\n",
       " '__delattr__',\n",
       " '__dict__',\n",
       " '__dir__',\n",
       " '__doc__',\n",
       " '__eq__',\n",
       " '__format__',\n",
       " '__ge__',\n",
       " '__getattribute__',\n",
       " '__gt__',\n",
       " '__hash__',\n",
       " '__init__',\n",
       " '__init_subclass__',\n",
       " '__le__',\n",
       " '__lt__',\n",
       " '__module__',\n",
       " '__ne__',\n",
       " '__new__',\n",
       " '__reduce__',\n",
       " '__reduce_ex__',\n",
       " '__repr__',\n",
       " '__setattr__',\n",
       " '__sizeof__',\n",
       " '__str__',\n",
       " '__subclasshook__',\n",
       " '__weakref__',\n",
       " 'calc_stats',\n",
       " 'get_bin_stats',\n",
       " 'get_cutoff',\n",
       " 'get_iv',\n",
       " 'get_varname',\n",
       " 'manual_bin',\n",
       " 'monotone_bin',\n",
       " 'pct_bin',\n",
       " 'plot_woe',\n",
       " 'trans_bin_to_woe',\n",
       " 'trans_to_bin',\n",
       " 'trans_to_woe']"
      ]
     },
     "execution_count": 24,
     "metadata": {},
     "output_type": "execute_result"
    }
   ],
   "source": [
    "dir(nb)"
   ]
  },
  {
   "cell_type": "code",
   "execution_count": 30,
   "id": "e1f07ea7-dd14-4074-818c-dd1d5b1c0b86",
   "metadata": {},
   "outputs": [
    {
     "data": {
      "text/html": [
       "<div>\n",
       "<style scoped>\n",
       "    .dataframe tbody tr th:only-of-type {\n",
       "        vertical-align: middle;\n",
       "    }\n",
       "\n",
       "    .dataframe tbody tr th {\n",
       "        vertical-align: top;\n",
       "    }\n",
       "\n",
       "    .dataframe thead th {\n",
       "        text-align: right;\n",
       "    }\n",
       "</style>\n",
       "<table border=\"1\" class=\"dataframe\">\n",
       "  <thead>\n",
       "    <tr style=\"text-align: right;\">\n",
       "      <th></th>\n",
       "      <th>Var</th>\n",
       "      <th>Range</th>\n",
       "      <th>Min</th>\n",
       "      <th>Max</th>\n",
       "      <th>CntRec</th>\n",
       "      <th>CntGood</th>\n",
       "      <th>CntBad</th>\n",
       "      <th>Pct</th>\n",
       "      <th>PctBad</th>\n",
       "      <th>PctGood</th>\n",
       "      <th>BadRate</th>\n",
       "      <th>CumGood</th>\n",
       "      <th>CumBad</th>\n",
       "      <th>Odds</th>\n",
       "      <th>LnOdds</th>\n",
       "      <th>WoE</th>\n",
       "      <th>IV</th>\n",
       "      <th>TotalIV</th>\n",
       "    </tr>\n",
       "    <tr>\n",
       "      <th>bin</th>\n",
       "      <th></th>\n",
       "      <th></th>\n",
       "      <th></th>\n",
       "      <th></th>\n",
       "      <th></th>\n",
       "      <th></th>\n",
       "      <th></th>\n",
       "      <th></th>\n",
       "      <th></th>\n",
       "      <th></th>\n",
       "      <th></th>\n",
       "      <th></th>\n",
       "      <th></th>\n",
       "      <th></th>\n",
       "      <th></th>\n",
       "      <th></th>\n",
       "      <th></th>\n",
       "      <th></th>\n",
       "    </tr>\n",
       "  </thead>\n",
       "  <tbody>\n",
       "    <tr>\n",
       "      <th>1</th>\n",
       "      <td>req_inc_ratio</td>\n",
       "      <td>&lt;=12.903</td>\n",
       "      <td>3.947368</td>\n",
       "      <td>12.903226</td>\n",
       "      <td>45</td>\n",
       "      <td>20</td>\n",
       "      <td>25</td>\n",
       "      <td>0.098039</td>\n",
       "      <td>0.118483</td>\n",
       "      <td>0.080645</td>\n",
       "      <td>0.555556</td>\n",
       "      <td>20</td>\n",
       "      <td>25</td>\n",
       "      <td>1.250000</td>\n",
       "      <td>0.223144</td>\n",
       "      <td>0.384714</td>\n",
       "      <td>0.014557</td>\n",
       "      <td>0.156555</td>\n",
       "    </tr>\n",
       "    <tr>\n",
       "      <th>2</th>\n",
       "      <td>req_inc_ratio</td>\n",
       "      <td>&lt;=16.000</td>\n",
       "      <td>12.987013</td>\n",
       "      <td>16.000000</td>\n",
       "      <td>46</td>\n",
       "      <td>22</td>\n",
       "      <td>24</td>\n",
       "      <td>0.100218</td>\n",
       "      <td>0.113744</td>\n",
       "      <td>0.088710</td>\n",
       "      <td>0.521739</td>\n",
       "      <td>42</td>\n",
       "      <td>49</td>\n",
       "      <td>1.090909</td>\n",
       "      <td>0.087011</td>\n",
       "      <td>0.248582</td>\n",
       "      <td>0.006223</td>\n",
       "      <td>0.156555</td>\n",
       "    </tr>\n",
       "    <tr>\n",
       "      <th>3</th>\n",
       "      <td>req_inc_ratio</td>\n",
       "      <td>&lt;=20.090</td>\n",
       "      <td>16.129032</td>\n",
       "      <td>20.090407</td>\n",
       "      <td>46</td>\n",
       "      <td>24</td>\n",
       "      <td>22</td>\n",
       "      <td>0.100218</td>\n",
       "      <td>0.104265</td>\n",
       "      <td>0.096774</td>\n",
       "      <td>0.478261</td>\n",
       "      <td>66</td>\n",
       "      <td>71</td>\n",
       "      <td>0.916667</td>\n",
       "      <td>-0.087011</td>\n",
       "      <td>0.074559</td>\n",
       "      <td>0.000559</td>\n",
       "      <td>0.156555</td>\n",
       "    </tr>\n",
       "    <tr>\n",
       "      <th>4</th>\n",
       "      <td>req_inc_ratio</td>\n",
       "      <td>&lt;=22.659</td>\n",
       "      <td>20.174849</td>\n",
       "      <td>22.658610</td>\n",
       "      <td>46</td>\n",
       "      <td>19</td>\n",
       "      <td>27</td>\n",
       "      <td>0.100218</td>\n",
       "      <td>0.127962</td>\n",
       "      <td>0.076613</td>\n",
       "      <td>0.586957</td>\n",
       "      <td>85</td>\n",
       "      <td>98</td>\n",
       "      <td>1.421053</td>\n",
       "      <td>0.351398</td>\n",
       "      <td>0.512968</td>\n",
       "      <td>0.026341</td>\n",
       "      <td>0.156555</td>\n",
       "    </tr>\n",
       "    <tr>\n",
       "      <th>5</th>\n",
       "      <td>req_inc_ratio</td>\n",
       "      <td>&lt;=25.699</td>\n",
       "      <td>22.727273</td>\n",
       "      <td>25.698683</td>\n",
       "      <td>46</td>\n",
       "      <td>31</td>\n",
       "      <td>15</td>\n",
       "      <td>0.100218</td>\n",
       "      <td>0.071090</td>\n",
       "      <td>0.125000</td>\n",
       "      <td>0.326087</td>\n",
       "      <td>116</td>\n",
       "      <td>113</td>\n",
       "      <td>0.483871</td>\n",
       "      <td>-0.725937</td>\n",
       "      <td>-0.564366</td>\n",
       "      <td>0.030425</td>\n",
       "      <td>0.156555</td>\n",
       "    </tr>\n",
       "    <tr>\n",
       "      <th>6</th>\n",
       "      <td>req_inc_ratio</td>\n",
       "      <td>&lt;=29.412</td>\n",
       "      <td>25.806452</td>\n",
       "      <td>29.411765</td>\n",
       "      <td>45</td>\n",
       "      <td>32</td>\n",
       "      <td>13</td>\n",
       "      <td>0.098039</td>\n",
       "      <td>0.061611</td>\n",
       "      <td>0.129032</td>\n",
       "      <td>0.288889</td>\n",
       "      <td>148</td>\n",
       "      <td>126</td>\n",
       "      <td>0.406250</td>\n",
       "      <td>-0.900787</td>\n",
       "      <td>-0.739216</td>\n",
       "      <td>0.049839</td>\n",
       "      <td>0.156555</td>\n",
       "    </tr>\n",
       "    <tr>\n",
       "      <th>7</th>\n",
       "      <td>req_inc_ratio</td>\n",
       "      <td>&lt;=33.333</td>\n",
       "      <td>29.629630</td>\n",
       "      <td>33.333333</td>\n",
       "      <td>51</td>\n",
       "      <td>25</td>\n",
       "      <td>26</td>\n",
       "      <td>0.111111</td>\n",
       "      <td>0.123223</td>\n",
       "      <td>0.100806</td>\n",
       "      <td>0.509804</td>\n",
       "      <td>173</td>\n",
       "      <td>152</td>\n",
       "      <td>1.040000</td>\n",
       "      <td>0.039221</td>\n",
       "      <td>0.200791</td>\n",
       "      <td>0.004501</td>\n",
       "      <td>0.156555</td>\n",
       "    </tr>\n",
       "    <tr>\n",
       "      <th>8</th>\n",
       "      <td>req_inc_ratio</td>\n",
       "      <td>&lt;=40.323</td>\n",
       "      <td>33.898305</td>\n",
       "      <td>40.322581</td>\n",
       "      <td>42</td>\n",
       "      <td>22</td>\n",
       "      <td>20</td>\n",
       "      <td>0.091503</td>\n",
       "      <td>0.094787</td>\n",
       "      <td>0.088710</td>\n",
       "      <td>0.476190</td>\n",
       "      <td>195</td>\n",
       "      <td>172</td>\n",
       "      <td>0.909091</td>\n",
       "      <td>-0.095310</td>\n",
       "      <td>0.066260</td>\n",
       "      <td>0.000403</td>\n",
       "      <td>0.156555</td>\n",
       "    </tr>\n",
       "    <tr>\n",
       "      <th>9</th>\n",
       "      <td>req_inc_ratio</td>\n",
       "      <td>&lt;=51.170</td>\n",
       "      <td>40.404040</td>\n",
       "      <td>51.169591</td>\n",
       "      <td>46</td>\n",
       "      <td>30</td>\n",
       "      <td>16</td>\n",
       "      <td>0.100218</td>\n",
       "      <td>0.075829</td>\n",
       "      <td>0.120968</td>\n",
       "      <td>0.347826</td>\n",
       "      <td>225</td>\n",
       "      <td>188</td>\n",
       "      <td>0.533333</td>\n",
       "      <td>-0.628609</td>\n",
       "      <td>-0.467038</td>\n",
       "      <td>0.021081</td>\n",
       "      <td>0.156555</td>\n",
       "    </tr>\n",
       "    <tr>\n",
       "      <th>10</th>\n",
       "      <td>req_inc_ratio</td>\n",
       "      <td>&lt;=166.667</td>\n",
       "      <td>52.083333</td>\n",
       "      <td>166.666667</td>\n",
       "      <td>46</td>\n",
       "      <td>23</td>\n",
       "      <td>23</td>\n",
       "      <td>0.100218</td>\n",
       "      <td>0.109005</td>\n",
       "      <td>0.092742</td>\n",
       "      <td>0.500000</td>\n",
       "      <td>248</td>\n",
       "      <td>211</td>\n",
       "      <td>1.000000</td>\n",
       "      <td>0.000000</td>\n",
       "      <td>0.161571</td>\n",
       "      <td>0.002628</td>\n",
       "      <td>0.156555</td>\n",
       "    </tr>\n",
       "  </tbody>\n",
       "</table>\n",
       "</div>"
      ],
      "text/plain": [
       "               Var      Range        Min         Max  CntRec  CntGood  CntBad  \\\n",
       "bin                                                                             \n",
       "1    req_inc_ratio   <=12.903   3.947368   12.903226      45       20      25   \n",
       "2    req_inc_ratio   <=16.000  12.987013   16.000000      46       22      24   \n",
       "3    req_inc_ratio   <=20.090  16.129032   20.090407      46       24      22   \n",
       "4    req_inc_ratio   <=22.659  20.174849   22.658610      46       19      27   \n",
       "5    req_inc_ratio   <=25.699  22.727273   25.698683      46       31      15   \n",
       "6    req_inc_ratio   <=29.412  25.806452   29.411765      45       32      13   \n",
       "7    req_inc_ratio   <=33.333  29.629630   33.333333      51       25      26   \n",
       "8    req_inc_ratio   <=40.323  33.898305   40.322581      42       22      20   \n",
       "9    req_inc_ratio   <=51.170  40.404040   51.169591      46       30      16   \n",
       "10   req_inc_ratio  <=166.667  52.083333  166.666667      46       23      23   \n",
       "\n",
       "          Pct    PctBad   PctGood   BadRate  CumGood  CumBad      Odds  \\\n",
       "bin                                                                      \n",
       "1    0.098039  0.118483  0.080645  0.555556       20      25  1.250000   \n",
       "2    0.100218  0.113744  0.088710  0.521739       42      49  1.090909   \n",
       "3    0.100218  0.104265  0.096774  0.478261       66      71  0.916667   \n",
       "4    0.100218  0.127962  0.076613  0.586957       85      98  1.421053   \n",
       "5    0.100218  0.071090  0.125000  0.326087      116     113  0.483871   \n",
       "6    0.098039  0.061611  0.129032  0.288889      148     126  0.406250   \n",
       "7    0.111111  0.123223  0.100806  0.509804      173     152  1.040000   \n",
       "8    0.091503  0.094787  0.088710  0.476190      195     172  0.909091   \n",
       "9    0.100218  0.075829  0.120968  0.347826      225     188  0.533333   \n",
       "10   0.100218  0.109005  0.092742  0.500000      248     211  1.000000   \n",
       "\n",
       "       LnOdds       WoE        IV   TotalIV  \n",
       "bin                                          \n",
       "1    0.223144  0.384714  0.014557  0.156555  \n",
       "2    0.087011  0.248582  0.006223  0.156555  \n",
       "3   -0.087011  0.074559  0.000559  0.156555  \n",
       "4    0.351398  0.512968  0.026341  0.156555  \n",
       "5   -0.725937 -0.564366  0.030425  0.156555  \n",
       "6   -0.900787 -0.739216  0.049839  0.156555  \n",
       "7    0.039221  0.200791  0.004501  0.156555  \n",
       "8   -0.095310  0.066260  0.000403  0.156555  \n",
       "9   -0.628609 -0.467038  0.021081  0.156555  \n",
       "10   0.000000  0.161571  0.002628  0.156555  "
      ]
     },
     "execution_count": 30,
     "metadata": {},
     "output_type": "execute_result"
    }
   ],
   "source": [
    "nb._XXDNumberBin__bin_stats"
   ]
  },
  {
   "cell_type": "markdown",
   "id": "05211c13-3946-423d-ae0f-4e0693e457e6",
   "metadata": {},
   "source": [
    "## 2.2 手动调整分箱"
   ]
  },
  {
   "cell_type": "code",
   "execution_count": 12,
   "id": "9d2c41e3-d450-49aa-9578-614c572efba1",
   "metadata": {},
   "outputs": [
    {
     "data": {
      "image/png": "[encoded data removed]",
      "text/plain": [
       "<Figure size 576x396 with 1 Axes>"
      ]
     },
     "metadata": {},
     "output_type": "display_data"
    },
    {
     "name": "stdout",
     "output_type": "stream",
     "text": [
      "Cutoff:[20.0, 30.0, 40.0, 166.66666669999998]\n"
     ]
    },
    {
     "data": {
      "text/plain": [
       "171    0.249863\n",
       "48    -0.119842\n",
       "440   -0.226800\n",
       "536    0.113943\n",
       "46    -0.119842\n",
       "         ...   \n",
       "43     0.249863\n",
       "495    0.113943\n",
       "556    0.249863\n",
       "89    -0.226800\n",
       "513    0.249863\n",
       "Name: req_inc_ratio, Length: 197, dtype: float64"
      ]
     },
     "execution_count": 12,
     "metadata": {},
     "output_type": "execute_result"
    }
   ],
   "source": [
    "nb.manual_bin(train_df, 'req_inc_ratio', 'flgGood', [20, 30, 40])\n",
    "nb.get_bin_stats()\n",
    "nb.plot_woe()\n",
    "nb.trans_to_woe(test_df['req_inc_ratio'])"
   ]
  },
  {
   "cell_type": "markdown",
   "id": "6672a772-0df3-49a8-aeba-c30cb5b8c6c4",
   "metadata": {},
   "source": [
    "## 2.3 自动单调分箱"
   ]
  },
  {
   "cell_type": "code",
   "execution_count": 13,
   "id": "c8a38d42-d9a1-4aaf-854a-d72818a60817",
   "metadata": {},
   "outputs": [
    {
     "data": {
      "image/png": "[encoded data removed]",
      "text/plain": [
       "<Figure size 576x396 with 1 Axes>"
      ]
     },
     "metadata": {},
     "output_type": "display_data"
    },
    {
     "name": "stdout",
     "output_type": "stream",
     "text": [
      "Cutoff:[25.69868294, 166.66666669999998]\n"
     ]
    },
    {
     "data": {
      "text/plain": [
       "171    0.135368\n",
       "48    -0.136264\n",
       "440    0.135368\n",
       "536   -0.136264\n",
       "46    -0.136264\n",
       "         ...   \n",
       "43     0.135368\n",
       "495   -0.136264\n",
       "556    0.135368\n",
       "89    -0.136264\n",
       "513    0.135368\n",
       "Name: req_inc_ratio, Length: 197, dtype: float64"
      ]
     },
     "execution_count": 13,
     "metadata": {},
     "output_type": "execute_result"
    }
   ],
   "source": [
    "nb.monotone_bin(train_df, 'req_inc_ratio', 'flgGood', max_bin = 3)\n",
    "nb.get_bin_stats()\n",
    "nb.plot_woe()\n",
    "nb.trans_to_woe(test_df['req_inc_ratio'])"
   ]
  },
  {
   "cell_type": "markdown",
   "id": "ce25cdec-aeed-4eb0-b821-c092200f2237",
   "metadata": {},
   "source": [
    "# 3.字符分箱"
   ]
  },
  {
   "cell_type": "code",
   "execution_count": 14,
   "id": "093f890b-edc2-43af-b642-537d0c6fab31",
   "metadata": {},
   "outputs": [],
   "source": [
    "cb = binning.XXDCharBin()"
   ]
  },
  {
   "cell_type": "markdown",
   "id": "9dbef109-77f2-4901-b4a6-2c63fba04690",
   "metadata": {},
   "source": [
    "## 3.1 自动分箱"
   ]
  },
  {
   "cell_type": "code",
   "execution_count": 15,
   "id": "99cbe6b3-545a-4df0-b63e-e5d4001b9ed8",
   "metadata": {},
   "outputs": [
    {
     "data": {
      "image/png": "[encoded data removed]",
      "text/plain": [
       "<Figure size 576x396 with 1 Axes>"
      ]
     },
     "metadata": {},
     "output_type": "display_data"
    },
    {
     "name": "stdout",
     "output_type": "stream",
     "text": [
      "0        [yuqing]\n",
      "1            [qq]\n",
      "2            [yq]\n",
      "3       [jack ma]\n",
      "4            [dd]\n",
      "5           [xxd]\n",
      "6    [xuxiaodong]\n",
      "7           [nan]\n",
      "Name: Range, dtype: object\n"
     ]
    },
    {
     "data": {
      "text/plain": [
       "171    0.197938\n",
       "48     0.090112\n",
       "440    0.161571\n",
       "536    0.194360\n",
       "46     0.197938\n",
       "         ...   \n",
       "43     0.161571\n",
       "495   -0.273747\n",
       "556   -0.126111\n",
       "89     0.161571\n",
       "513   -0.273747\n",
       "Name: woe, Length: 197, dtype: float64"
      ]
     },
     "execution_count": 15,
     "metadata": {},
     "output_type": "execute_result"
    }
   ],
   "source": [
    "cb.pct_bin(train_df, 'name', 'flgGood')\n",
    "cb.get_bin_stats()\n",
    "cb.plot_woe()\n",
    "cb.trans_to_woe(test_df['name'])"
   ]
  },
  {
   "cell_type": "markdown",
   "id": "ffb674cd-67db-4f49-93ed-d0bac35718ee",
   "metadata": {},
   "source": [
    "## 3.2 字符型手动分箱"
   ]
  },
  {
   "cell_type": "code",
   "execution_count": 16,
   "id": "c543154e-8bcc-40b9-8c5c-20d60eee55f6",
   "metadata": {},
   "outputs": [
    {
     "data": {
      "image/png": "[encoded data removed]",
      "text/plain": [
       "<Figure size 576x396 with 1 Axes>"
      ]
     },
     "metadata": {},
     "output_type": "display_data"
    },
    {
     "name": "stdout",
     "output_type": "stream",
     "text": [
      "0               [jack ma]\n",
      "1    [xuxiaodong, yuqing]\n",
      "2       [yq, dd, xxd, qq]\n",
      "3                   [nan]\n",
      "Name: Range, dtype: object\n"
     ]
    },
    {
     "data": {
      "text/plain": [
       "171    0.197938\n",
       "48    -0.006223\n",
       "440   -0.006223\n",
       "536   -0.027021\n",
       "46     0.197938\n",
       "         ...   \n",
       "43    -0.006223\n",
       "495   -0.027021\n",
       "556   -0.006223\n",
       "89    -0.006223\n",
       "513   -0.027021\n",
       "Name: woe, Length: 197, dtype: float64"
      ]
     },
     "execution_count": 16,
     "metadata": {},
     "output_type": "execute_result"
    }
   ],
   "source": [
    "cb.manual_bin(\n",
    "    train_df, \n",
    "    'name', \n",
    "  'flgGood', \n",
    "  [['yuqing', 'xuxiaodong'], ['jack ma'], ['yq', 'dd', 'xxd', 'qq']]\n",
    ")\n",
    "cb.get_bin_stats()\n",
    "cb.plot_woe()\n",
    "cb.trans_to_woe(test_df['name'])"
   ]
  },
  {
   "cell_type": "code",
   "execution_count": null,
   "id": "e66214dc-1d42-49eb-8211-95f050b0a2e8",
   "metadata": {},
   "outputs": [],
   "source": []
  }
 ],
 "metadata": {
  "kernelspec": {
   "display_name": "Python 3",
   "language": "python",
   "name": "python3"
  },
  "language_info": {
   "codemirror_mode": {
    "name": "ipython",
    "version": 3
   },
   "file_extension": ".py",
   "mimetype": "text/x-python",
   "name": "python",
   "nbconvert_exporter": "python",
   "pygments_lexer": "ipython3",
   "version": "3.7.10"
  }
 },
 "nbformat": 4,
 "nbformat_minor": 5
}
