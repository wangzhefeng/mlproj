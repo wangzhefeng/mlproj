{
 "cells": [
  {
   "cell_type": "code",
   "execution_count": null,
   "metadata": {},
   "outputs": [],
   "source": [
    "from sklearn.base import clone\n",
    "from sklearn.linear_model import SGDRegressor\n",
    "from sklearn.metrics import mean_squared_error\n",
    "\n",
    "def earlyStopping(model, X_train, y_train, X_val, y_val, n_iters):\n",
    "    # training and 正则化\n",
    "    minimum_val_error = float(\"intf\")\n",
    "    best_epoch = None\n",
    "    best_model = None\n",
    "\n",
    "    for epoch in range(n_iters): # 0 ~ n_iters-1\n",
    "        model.fit(X_train, y_train)\n",
    "        y_val_pred = model.predict(X_val)\n",
    "        val_error = mean_squared_error(y_val_pred, y_val)\n",
    "        if val_error < minimum_val_error:\n",
    "            minimum_val_error = val_error\n",
    "            best_epoch = epoch\n",
    "            best_model = clone(sgd_reg)\n",
    "    return best_epoch, best_model"
   ]
  }
 ],
 "metadata": {
  "kernelspec": {
   "display_name": "Python 3",
   "language": "python",
   "name": "python3"
  },
  "language_info": {
   "codemirror_mode": {
    "name": "ipython",
    "version": 3
   },
   "file_extension": ".py",
   "mimetype": "text/x-python",
   "name": "python",
   "nbconvert_exporter": "python",
   "pygments_lexer": "ipython3",
   "version": "3.7.0"
  }
 },
 "nbformat": 4,
 "nbformat_minor": 2
}
