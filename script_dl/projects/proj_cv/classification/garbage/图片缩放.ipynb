{
 "cells": [
  {
   "cell_type": "code",
   "execution_count": 18,
   "metadata": {
    "execution": {
     "iopub.execute_input": "2021-09-15T03:56:52.203882Z",
     "iopub.status.busy": "2021-09-15T03:56:52.203315Z",
     "iopub.status.idle": "2021-09-15T03:56:52.442019Z",
     "shell.execute_reply": "2021-09-15T03:56:52.440533Z",
     "shell.execute_reply.started": "2021-09-15T03:56:52.203835Z"
    },
    "tags": []
   },
   "outputs": [
    {
     "name": "stdout",
     "output_type": "stream",
     "text": [
      "mkdir: 无法创建目录\"train_512\": 文件已存在\n",
      "mkdir: 无法创建目录\"validation_512\": 文件已存在\n"
     ]
    }
   ],
   "source": [
    "import cv2, glob, os\n",
    "import numpy as np\n",
    "!mkdir train_512\n",
    "!mkdir validation_512"
   ]
  },
  {
   "cell_type": "code",
   "execution_count": 13,
   "metadata": {
    "execution": {
     "iopub.execute_input": "2021-09-15T02:43:40.579388Z",
     "iopub.status.busy": "2021-09-15T02:43:40.578801Z",
     "iopub.status.idle": "2021-09-15T02:56:31.544105Z",
     "shell.execute_reply": "2021-09-15T02:56:31.543510Z",
     "shell.execute_reply.started": "2021-09-15T02:43:40.579339Z"
    },
    "tags": []
   },
   "outputs": [],
   "source": [
    "for path in glob.glob('./train/*'):\n",
    "    \n",
    "    if os.path.exists('train_512/' + path.split('/')[-1]):\n",
    "        continue\n",
    "    \n",
    "    img = cv2.imread(path)\n",
    "    try:\n",
    "        img = cv2.resize(img, (512, 512))\n",
    "        cv2.imwrite('train_512/' + path.split('/')[-1], img)\n",
    "    except:\n",
    "        pass\n",
    "#     break"
   ]
  },
  {
   "cell_type": "code",
   "execution_count": 21,
   "metadata": {
    "execution": {
     "iopub.execute_input": "2021-09-15T04:00:00.853208Z",
     "iopub.status.busy": "2021-09-15T04:00:00.852638Z",
     "iopub.status.idle": "2021-09-15T04:00:00.866420Z",
     "shell.execute_reply": "2021-09-15T04:00:00.865247Z",
     "shell.execute_reply.started": "2021-09-15T04:00:00.853161Z"
    },
    "tags": []
   },
   "outputs": [],
   "source": [
    "for path in glob.glob('./validation/*'):\n",
    "    \n",
    "    \n",
    "    if os.path.exists('validation_512/' + path.split('/')[-1]):\n",
    "        continue\n",
    "    \n",
    "    img = cv2.imread(path)\n",
    "    \n",
    "    try:\n",
    "        img = cv2.resize(img, (512, 512))\n",
    "        cv2.imwrite('validation_512/' + path.split('/')[-1], img)\n",
    "    except:\n",
    "        img = np.zeros((512, 512, 3))\n",
    "        cv2.imwrite('validation_512/' + path.split('/')[-1], img)\n",
    "        pass\n",
    "#     break"
   ]
  },
  {
   "cell_type": "code",
   "execution_count": null,
   "metadata": {},
   "outputs": [],
   "source": []
  }
 ],
 "metadata": {
  "kernelspec": {
   "display_name": "Python 3",
   "language": "python",
   "name": "python3"
  },
  "language_info": {
   "codemirror_mode": {
    "name": "ipython",
    "version": 3
   },
   "file_extension": ".py",
   "mimetype": "text/x-python",
   "name": "python",
   "nbconvert_exporter": "python",
   "pygments_lexer": "ipython3",
   "version": "3.6.9"
  }
 },
 "nbformat": 4,
 "nbformat_minor": 4
}
