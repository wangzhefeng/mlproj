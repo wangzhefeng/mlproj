{
 "cells": [
  {
   "cell_type": "code",
   "execution_count": null,
   "id": "4e480fc6",
   "metadata": {},
   "outputs": [
    {
     "name": "stdout",
     "output_type": "stream",
     "text": [
      "NLTK Downloader\n",
      "---------------------------------------------------------------------------\n",
      "    d) Download   l) List    u) Update   c) Config   h) Help   q) Quit\n",
      "---------------------------------------------------------------------------\n"
     ]
    },
    {
     "name": "stdin",
     "output_type": "stream",
     "text": [
      "Downloader>  c\n"
     ]
    },
    {
     "name": "stdout",
     "output_type": "stream",
     "text": [
      "\n",
      "Data Server:\n",
      "  - URL: <https://raw.githubusercontent.com/nltk/nltk_data/gh-pages/index.xml>\n",
      "  - 7 Package Collections Available\n",
      "  - 113 Individual Packages Available\n",
      "\n",
      "Local Machine:\n",
      "  - Data directory: /Users/zfwang/nltk_data\n",
      "\n",
      "---------------------------------------------------------------------------\n",
      "    s) Show Config   u) Set Server URL   d) Set Data Dir   m) Main Menu\n",
      "---------------------------------------------------------------------------\n"
     ]
    },
    {
     "name": "stdin",
     "output_type": "stream",
     "text": [
      "Config>  d\n",
      "  New Directory>  /Users/zfwang/learn/machinelearning/data/nltk_data\n"
     ]
    },
    {
     "name": "stdout",
     "output_type": "stream",
     "text": [
      "\n",
      "---------------------------------------------------------------------------\n",
      "    s) Show Config   u) Set Server URL   d) Set Data Dir   m) Main Menu\n",
      "---------------------------------------------------------------------------\n"
     ]
    },
    {
     "name": "stdin",
     "output_type": "stream",
     "text": [
      "Config>  m\n"
     ]
    },
    {
     "name": "stdout",
     "output_type": "stream",
     "text": [
      "\n",
      "---------------------------------------------------------------------------\n",
      "    d) Download   l) List    u) Update   c) Config   h) Help   q) Quit\n",
      "---------------------------------------------------------------------------\n"
     ]
    },
    {
     "name": "stdin",
     "output_type": "stream",
     "text": [
      "Downloader>  d\n"
     ]
    },
    {
     "name": "stdout",
     "output_type": "stream",
     "text": [
      "\n",
      "Download which package (l=list; x=cancel)?\n"
     ]
    },
    {
     "name": "stdin",
     "output_type": "stream",
     "text": [
      "  Identifier>  all\n"
     ]
    },
    {
     "name": "stderr",
     "output_type": "stream",
     "text": [
      "    Downloading collection 'all'\n",
      "       | \n",
      "       | Downloading package abc to\n",
      "       |     /Users/zfwang/learn/machinelearning/data/nltk_data...\n",
      "       |   Unzipping corpora/abc.zip.\n",
      "       | Downloading package alpino to\n",
      "       |     /Users/zfwang/learn/machinelearning/data/nltk_data...\n",
      "       |   Unzipping corpora/alpino.zip.\n",
      "       | Downloading package averaged_perceptron_tagger to\n",
      "       |     /Users/zfwang/learn/machinelearning/data/nltk_data...\n",
      "       |   Unzipping taggers/averaged_perceptron_tagger.zip.\n",
      "       | Downloading package averaged_perceptron_tagger_ru to\n",
      "       |     /Users/zfwang/learn/machinelearning/data/nltk_data...\n",
      "       |   Unzipping taggers/averaged_perceptron_tagger_ru.zip.\n",
      "       | Downloading package basque_grammars to\n",
      "       |     /Users/zfwang/learn/machinelearning/data/nltk_data...\n",
      "       |   Unzipping grammars/basque_grammars.zip.\n",
      "       | Downloading package bcp47 to\n",
      "       |     /Users/zfwang/learn/machinelearning/data/nltk_data...\n",
      "       | Downloading package biocreative_ppi to\n",
      "       |     /Users/zfwang/learn/machinelearning/data/nltk_data...\n",
      "       |   Unzipping corpora/biocreative_ppi.zip.\n",
      "       | Downloading package bllip_wsj_no_aux to\n",
      "       |     /Users/zfwang/learn/machinelearning/data/nltk_data...\n",
      "       |   Unzipping models/bllip_wsj_no_aux.zip.\n",
      "       | Downloading package book_grammars to\n",
      "       |     /Users/zfwang/learn/machinelearning/data/nltk_data...\n",
      "       |   Unzipping grammars/book_grammars.zip.\n",
      "       | Downloading package brown to\n",
      "       |     /Users/zfwang/learn/machinelearning/data/nltk_data...\n",
      "       |   Unzipping corpora/brown.zip.\n",
      "       | Downloading package brown_tei to\n",
      "       |     /Users/zfwang/learn/machinelearning/data/nltk_data...\n",
      "       |   Unzipping corpora/brown_tei.zip.\n",
      "       | Downloading package cess_cat to\n",
      "       |     /Users/zfwang/learn/machinelearning/data/nltk_data...\n",
      "       |   Unzipping corpora/cess_cat.zip.\n",
      "       | Downloading package cess_esp to\n",
      "       |     /Users/zfwang/learn/machinelearning/data/nltk_data...\n",
      "       |   Unzipping corpora/cess_esp.zip.\n",
      "       | Downloading package chat80 to\n",
      "       |     /Users/zfwang/learn/machinelearning/data/nltk_data...\n",
      "       |   Unzipping corpora/chat80.zip.\n",
      "       | Downloading package city_database to\n",
      "       |     /Users/zfwang/learn/machinelearning/data/nltk_data...\n",
      "       |   Unzipping corpora/city_database.zip.\n",
      "       | Downloading package cmudict to\n",
      "       |     /Users/zfwang/learn/machinelearning/data/nltk_data...\n",
      "       |   Unzipping corpora/cmudict.zip.\n",
      "       | Downloading package comparative_sentences to\n",
      "       |     /Users/zfwang/learn/machinelearning/data/nltk_data...\n",
      "       |   Unzipping corpora/comparative_sentences.zip.\n",
      "       | Downloading package comtrans to\n",
      "       |     /Users/zfwang/learn/machinelearning/data/nltk_data...\n",
      "       | Downloading package conll2000 to\n",
      "       |     /Users/zfwang/learn/machinelearning/data/nltk_data...\n",
      "       |   Unzipping corpora/conll2000.zip.\n",
      "       | Downloading package conll2002 to\n",
      "       |     /Users/zfwang/learn/machinelearning/data/nltk_data...\n",
      "       |   Unzipping corpora/conll2002.zip.\n",
      "       | Downloading package conll2007 to\n",
      "       |     /Users/zfwang/learn/machinelearning/data/nltk_data...\n",
      "       | Downloading package crubadan to\n",
      "       |     /Users/zfwang/learn/machinelearning/data/nltk_data...\n",
      "       |   Unzipping corpora/crubadan.zip.\n",
      "       | Downloading package dependency_treebank to\n",
      "       |     /Users/zfwang/learn/machinelearning/data/nltk_data...\n"
     ]
    }
   ],
   "source": [
    "import nltk\n",
    "nltk.download()"
   ]
  },
  {
   "cell_type": "code",
   "execution_count": null,
   "id": "54cb55df",
   "metadata": {},
   "outputs": [],
   "source": []
  }
 ],
 "metadata": {
  "kernelspec": {
   "display_name": "Python 3",
   "language": "python",
   "name": "python3"
  },
  "language_info": {
   "codemirror_mode": {
    "name": "ipython",
    "version": 3
   },
   "file_extension": ".py",
   "mimetype": "text/x-python",
   "name": "python",
   "nbconvert_exporter": "python",
   "pygments_lexer": "ipython3",
   "version": "3.7.10"
  }
 },
 "nbformat": 4,
 "nbformat_minor": 5
}
